{
 "cells": [
  {
   "cell_type": "code",
   "execution_count": null,
   "metadata": {
    "executionInfo": {
     "elapsed": 6269,
     "status": "ok",
     "timestamp": 1644814809796,
     "user": {
      "displayName": "AI02 DILAVAR",
      "photoUrl": "https://lh3.googleusercontent.com/a/default-user=s64",
      "userId": "04301189446431884016"
     },
     "user_tz": -330
    },
    "id": "BItE0WFMFuxX"
   },
   "outputs": [],
   "source": [
    "from keras.layers import Input, Lambda, Dense, Flatten\n",
    "from keras.models import load_model,Model\n",
    "from keras.applications.vgg16 import VGG16\n",
    "from keras.applications.vgg16 import preprocess_input\n",
    "from keras.preprocessing import image\n",
    "from keras.preprocessing.image import ImageDataGenerator\n",
    "from keras.models import Sequential\n",
    "import numpy as np\n",
    "from glob import glob\n",
    "import matplotlib.pyplot as plt"
   ]
  },
  {
   "cell_type": "code",
   "execution_count": null,
   "metadata": {
    "executionInfo": {
     "elapsed": 311,
     "status": "ok",
     "timestamp": 1644814825666,
     "user": {
      "displayName": "AI02 DILAVAR",
      "photoUrl": "https://lh3.googleusercontent.com/a/default-user=s64",
      "userId": "04301189446431884016"
     },
     "user_tz": -330
    },
    "id": "aHfDbqeDSdAp"
   },
   "outputs": [],
   "source": [
    "# re-size all the images to this\n",
    "IMAGE_SIZE = [224, 224]\n",
    "\n",
    "train_path = 'Dataset/train'\n",
    "valid_path = 'Dataset/test'"
   ]
  },
  {
   "cell_type": "markdown",
   "metadata": {
    "id": "nJso-nMzg81Y"
   },
   "source": [
    "VGG NET BASED FEATURE SELECTION"
   ]
  },
  {
   "cell_type": "code",
   "execution_count": null,
   "metadata": {
    "colab": {
     "base_uri": "https://localhost:8080/",
     "height": 0
    },
    "executionInfo": {
     "elapsed": 4650,
     "status": "ok",
     "timestamp": 1644814833430,
     "user": {
      "displayName": "AI02 DILAVAR",
      "photoUrl": "https://lh3.googleusercontent.com/a/default-user=s64",
      "userId": "04301189446431884016"
     },
     "user_tz": -330
    },
    "id": "nacCk78AS2BS",
    "outputId": "87764b18-7147-42b8-ef53-d0b0338b2ce2",
    "scrolled": true
   },
   "outputs": [],
   "source": [
    "# add preprocessing layer to the front of VGG\n",
    "vgg = VGG19(input_shape=IMAGE_SIZE + [3], weights=None, include_top=False)\n"
   ]
  },
  {
   "cell_type": "code",
   "execution_count": null,
   "metadata": {
    "executionInfo": {
     "elapsed": 299,
     "status": "ok",
     "timestamp": 1644814835343,
     "user": {
      "displayName": "AI02 DILAVAR",
      "photoUrl": "https://lh3.googleusercontent.com/a/default-user=s64",
      "userId": "04301189446431884016"
     },
     "user_tz": -330
    },
    "id": "SRGV0GoMS9E8"
   },
   "outputs": [],
   "source": [
    "# don't train existing weights\n",
    "for layer in vgg.layers:\n",
    "    layer.trainable = False"
   ]
  },
  {
   "cell_type": "code",
   "execution_count": null,
   "metadata": {
    "executionInfo": {
     "elapsed": 1959,
     "status": "ok",
     "timestamp": 1644814842438,
     "user": {
      "displayName": "AI02 DILAVAR",
      "photoUrl": "https://lh3.googleusercontent.com/a/default-user=s64",
      "userId": "04301189446431884016"
     },
     "user_tz": -330
    },
    "id": "Mn4yaBqnTCGV"
   },
   "outputs": [],
   "source": [
    " # useful for getting number of classes\n",
    "folders = glob('Dataset/train/*')"
   ]
  },
  {
   "cell_type": "code",
   "execution_count": null,
   "metadata": {
    "executionInfo": {
     "elapsed": 300,
     "status": "ok",
     "timestamp": 1644814843888,
     "user": {
      "displayName": "AI02 DILAVAR",
      "photoUrl": "https://lh3.googleusercontent.com/a/default-user=s64",
      "userId": "04301189446431884016"
     },
     "user_tz": -330
    },
    "id": "4Sm4tFEQTNCV"
   },
   "outputs": [],
   "source": [
    "# our layers - you can add more if you want\n",
    "x = Flatten()(vgg.output)\n",
    "\n",
    "prediction = Dense(len(folders), activation='softmax')(x)"
   ]
  },
  {
   "cell_type": "code",
   "execution_count": null,
   "metadata": {
    "executionInfo": {
     "elapsed": 296,
     "status": "ok",
     "timestamp": 1644814846002,
     "user": {
      "displayName": "AI02 DILAVAR",
      "photoUrl": "https://lh3.googleusercontent.com/a/default-user=s64",
      "userId": "04301189446431884016"
     },
     "user_tz": -330
    },
    "id": "Ew5E0fmUTUDn"
   },
   "outputs": [],
   "source": [
    "# create a model object\n",
    "model = Model(inputs=vgg.input, outputs=prediction)\n"
   ]
  },
  {
   "cell_type": "code",
   "execution_count": null,
   "metadata": {
    "colab": {
     "base_uri": "https://localhost:8080/",
     "height": 0
    },
    "executionInfo": {
     "elapsed": 498,
     "status": "ok",
     "timestamp": 1644814848136,
     "user": {
      "displayName": "AI02 DILAVAR",
      "photoUrl": "https://lh3.googleusercontent.com/a/default-user=s64",
      "userId": "04301189446431884016"
     },
     "user_tz": -330
    },
    "id": "NrY2AUsBTabo",
    "outputId": "05848406-9c76-4fa6-d969-e5cc0b16b827"
   },
   "outputs": [],
   "source": [
    "# view the structure of the model\n",
    "model.summary()"
   ]
  },
  {
   "cell_type": "code",
   "execution_count": null,
   "metadata": {
    "executionInfo": {
     "elapsed": 298,
     "status": "ok",
     "timestamp": 1644814853391,
     "user": {
      "displayName": "AI02 DILAVAR",
      "photoUrl": "https://lh3.googleusercontent.com/a/default-user=s64",
      "userId": "04301189446431884016"
     },
     "user_tz": -330
    },
    "id": "fRwjcd4WThzZ"
   },
   "outputs": [],
   "source": [
    "# tell the model what cost and optimization method to use\n",
    "model.compile(\n",
    "  loss='categorical_crossentropy',\n",
    "  optimizer='adam',\n",
    "  metrics=['accuracy','Precision','Recall']\n",
    ")\n"
   ]
  },
  {
   "cell_type": "code",
   "execution_count": null,
   "metadata": {
    "colab": {
     "base_uri": "https://localhost:8080/",
     "height": 0
    },
    "executionInfo": {
     "elapsed": 830,
     "status": "ok",
     "timestamp": 1644814899789,
     "user": {
      "displayName": "AI02 DILAVAR",
      "photoUrl": "https://lh3.googleusercontent.com/a/default-user=s64",
      "userId": "04301189446431884016"
     },
     "user_tz": -330
    },
    "id": "o1qMYWleUS9i",
    "outputId": "57b212d3-a9fa-436a-ad4b-7b23ac484ca9"
   },
   "outputs": [],
   "source": [
    "from keras.preprocessing.image import ImageDataGenerator\n",
    "\n",
    "train_datagen = ImageDataGenerator(rescale=1./255,\n",
    "                                   \n",
    "                                   horizontal_flip = False)\n",
    "\n",
    "test_datagen = ImageDataGenerator(rescale=1./255)\n",
    "\n",
    "training_set = train_datagen.flow_from_directory('Dataset/train',\n",
    "                                                 target_size = (224, 224),\n",
    "                                                 batch_size = 32,\n",
    "                                                 class_mode = 'categorical')"
   ]
  },
  {
   "cell_type": "code",
   "execution_count": null,
   "metadata": {
    "colab": {
     "base_uri": "https://localhost:8080/",
     "height": 0
    },
    "executionInfo": {
     "elapsed": 11705,
     "status": "ok",
     "timestamp": 1644814930834,
     "user": {
      "displayName": "AI02 DILAVAR",
      "photoUrl": "https://lh3.googleusercontent.com/a/default-user=s64",
      "userId": "04301189446431884016"
     },
     "user_tz": -330
    },
    "id": "XVf4sqDxUejF",
    "outputId": "50ed1583-8715-4aa5-abb0-28488078eb44"
   },
   "outputs": [],
   "source": [
    "test_generator = test_datagen.flow_from_directory('Dataset/test',\n",
    "                                            target_size = (224, 224),\n",
    "                                            batch_size = 32,\n",
    "                                            class_mode = 'categorical')"
   ]
  },
  {
   "cell_type": "code",
   "execution_count": null,
   "metadata": {
    "colab": {
     "base_uri": "https://localhost:8080/"
    },
    "id": "z1Pbpm9CUoq8",
    "outputId": "b77fcd08-7afc-4ff5-8862-3e655061179f"
   },
   "outputs": [],
   "source": [
    "r = model.fit_generator(\n",
    "  training_set,\n",
    "  validation_data=test_generator,\n",
    "  epochs=50,\n",
    "  steps_per_epoch=len(training_set),\n",
    "  validation_steps=len(test_generator)\n",
    ")"
   ]
  },
  {
   "cell_type": "code",
   "execution_count": null,
   "metadata": {
    "colab": {
     "base_uri": "https://localhost:8080/",
     "height": 282
    },
    "executionInfo": {
     "elapsed": 359,
     "status": "ok",
     "timestamp": 1644816968044,
     "user": {
      "displayName": "AI02 DILAVAR",
      "photoUrl": "https://lh3.googleusercontent.com/a/default-user=s64",
      "userId": "04301189446431884016"
     },
     "user_tz": -330
    },
    "id": "ATNuy8VgVMvQ",
    "outputId": "3b3032a1-cbe2-45a3-c54b-d62387fad883"
   },
   "outputs": [],
   "source": [
    "# loss\n",
    "plt.plot(r.history['loss'], label='train loss')\n",
    "plt.plot(r.history['val_loss'], label='val loss')\n",
    "plt.legend()\n",
    "plt.show()\n",
    "plt.savefig('LossVal')"
   ]
  },
  {
   "cell_type": "code",
   "execution_count": null,
   "metadata": {
    "colab": {
     "base_uri": "https://localhost:8080/",
     "height": 282
    },
    "executionInfo": {
     "elapsed": 745,
     "status": "ok",
     "timestamp": 1644816975038,
     "user": {
      "displayName": "AI02 DILAVAR",
      "photoUrl": "https://lh3.googleusercontent.com/a/default-user=s64",
      "userId": "04301189446431884016"
     },
     "user_tz": -330
    },
    "id": "Pvc9e6gVVN-t",
    "outputId": "57f333d4-13cb-446c-d112-b1f61b32b719"
   },
   "outputs": [],
   "source": [
    "# accuracies\n",
    "plt.plot(r.history['accuracy'], label='train acc')\n",
    "plt.plot(r.history['val_accuracy'], label='val acc')\n",
    "plt.legend()\n",
    "plt.show()\n",
    "plt.savefig('AccVal')\n"
   ]
  },
  {
   "cell_type": "code",
   "execution_count": null,
   "metadata": {
    "executionInfo": {
     "elapsed": 844,
     "status": "ok",
     "timestamp": 1644816988637,
     "user": {
      "displayName": "AI02 DILAVAR",
      "photoUrl": "https://lh3.googleusercontent.com/a/default-user=s64",
      "userId": "04301189446431884016"
     },
     "user_tz": -330
    },
    "id": "AkdIcR0TCqMI"
   },
   "outputs": [],
   "source": [
    "# save it as a h5 file\n",
    "from tensorflow.keras.models import load_model\n",
    "model.save('model_VGG19.h5')"
   ]
  },
  {
   "cell_type": "code",
   "execution_count": null,
   "metadata": {
    "colab": {
     "base_uri": "https://localhost:8080/",
     "height": 0
    },
    "executionInfo": {
     "elapsed": 12144,
     "status": "ok",
     "timestamp": 1644817085259,
     "user": {
      "displayName": "AI02 DILAVAR",
      "photoUrl": "https://lh3.googleusercontent.com/a/default-user=s64",
      "userId": "04301189446431884016"
     },
     "user_tz": -330
    },
    "id": "bkn1wqSGC0-e",
    "outputId": "c8a0522a-9b3f-4f64-f981-6c977c3ce487"
   },
   "outputs": [],
   "source": [
    "\n",
    "y_pred = model.predict(test_generator)\n",
    "y_pred"
   ]
  }
 ],
 "metadata": {
  "accelerator": "GPU",
  "colab": {
   "name": " VGG 16.ipynb",
   "provenance": [
    {
     "file_id": "https://github.com/aysharega/M.Tech-Project-Thesis/blob/main/Hand_Gesture_VGG_16.ipynb",
     "timestamp": 1644814735132
    }
   ]
  },
  "kernelspec": {
   "display_name": "tf2.7",
   "language": "python",
   "name": "tf2.7"
  },
  "language_info": {
   "codemirror_mode": {
    "name": "ipython",
    "version": 3
   },
   "file_extension": ".py",
   "mimetype": "text/x-python",
   "name": "python",
   "nbconvert_exporter": "python",
   "pygments_lexer": "ipython3",
   "version": "3.9.0"
  }
 },
 "nbformat": 4,
 "nbformat_minor": 1
}
