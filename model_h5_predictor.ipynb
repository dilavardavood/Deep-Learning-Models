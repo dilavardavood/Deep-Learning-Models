{
 "cells": [
  {
   "cell_type": "code",
   "execution_count": null,
   "metadata": {
    "executionInfo": {
     "elapsed": 2928,
     "status": "ok",
     "timestamp": 1643615969842,
     "user": {
      "displayName": "AI02 DILAVAR",
      "photoUrl": "https://lh3.googleusercontent.com/a/default-user=s64",
      "userId": "04301189446431884016"
     },
     "user_tz": -330
    },
    "id": "YGFc3i9kIemF"
   },
   "outputs": [],
   "source": [
    "from __future__ import division, print_function\n",
    "import sys\n",
    "import os\n",
    "import glob\n",
    "import re\n",
    "import numpy as np\n",
    "import tensorflow as tf\n",
    "import tensorflow as tf\n",
    "\n",
    "from tensorflow.compat.v1 import ConfigProto\n",
    "from tensorflow.compat.v1 import InteractiveSession\n",
    "\n",
    "config = ConfigProto()\n",
    "config.gpu_options.per_process_gpu_memory_fraction = 0.2\n",
    "config.gpu_options.allow_growth = True\n",
    "session = InteractiveSession(config=config)\n",
    "# Keras\n",
    "from tensorflow.keras.applications.resnet50 import preprocess_input\n",
    "from tensorflow.keras.models import load_model\n",
    "from tensorflow.keras.preprocessing import image"
   ]
  },
  {
   "cell_type": "code",
   "execution_count": null,
   "metadata": {
    "executionInfo": {
     "elapsed": 5424,
     "status": "ok",
     "timestamp": 1643615980388,
     "user": {
      "displayName": "AI02 DILAVAR",
      "photoUrl": "https://lh3.googleusercontent.com/a/default-user=s64",
      "userId": "04301189446431884016"
     },
     "user_tz": -330
    },
    "id": "KodAQoYvIigf"
   },
   "outputs": [],
   "source": [
    "# Load your trained model\n",
    "\n",
    "MODEL_PATH = 'VGG16_model.h5'\n",
    "\n",
    "model = load_model(MODEL_PATH)"
   ]
  },
  {
   "cell_type": "code",
   "execution_count": null,
   "metadata": {
    "colab": {
     "base_uri": "https://localhost:8080/"
    },
    "executionInfo": {
     "elapsed": 1023,
     "status": "ok",
     "timestamp": 1643619649789,
     "user": {
      "displayName": "AI02 DILAVAR",
      "photoUrl": "https://lh3.googleusercontent.com/a/default-user=s64",
      "userId": "04301189446431884016"
     },
     "user_tz": -330
    },
    "id": "dqzk3Ev7Ikvw",
    "outputId": "44ffabb6-1576-4559-f601-c9b19246fd8c"
   },
   "outputs": [],
   "source": [
    "\n",
    "img_path = \"Validation/test_image.jpg\"\n",
    "\n",
    "img = image.load_img(img_path, target_size=(224, 224))\n",
    "\n",
    "# Preprocessing the image\n",
    "x = image.img_to_array(img)\n",
    "# x = np.true_divide(x, 255)\n",
    "## Scaling\n",
    "x = x / 255\n",
    "x = np.expand_dims(x, axis=0)\n",
    "\n",
    "# Be careful how your trained model deals with the input\n",
    "# otherwise, it won't make correct prediction!\n",
    "# x = preprocess_input(x)\n",
    "\n",
    "preds = model.predict(x)\n",
    "maxElement = np.amax(preds)\n",
    "print(maxElement)\n",
    "preds = np.argmax(preds, axis=1)\n",
    "print(preds)\n",
    "\n",
    "# Add or remove according to the number of class\n",
    "if preds == 0:\n",
    "    preds = \"ID1\"\n",
    "elif preds == 1:\n",
    "    preds = \"ID10\"\n",
    "elif preds == 2:\n",
    "    preds = \"ID2\"\n",
    "elif preds == 3:\n",
    "    preds = \"ID3\"\n",
    "elif preds == 4:\n",
    "    preds = \"ID4\"\n",
    "elif preds == 5:\n",
    "    preds = \"ID5\"\n",
    "elif preds == 6:\n",
    "    preds = \"ID6\"\n",
    "elif preds == 7:\n",
    "    preds = \"ID7\"\n",
    "elif preds == 8:\n",
    "    preds = \"ID8\"\n",
    "elif preds == 9:\n",
    "    preds = \"ID9\"\n",
    "\n",
    "\n",
    "print(preds)"
   ]
  },
  {
   "cell_type": "raw",
   "metadata": {},
   "source": [
    "# To iterate through all images in a folder"
   ]
  },
  {
   "cell_type": "code",
   "execution_count": null,
   "metadata": {
    "colab": {
     "base_uri": "https://localhost:8080/"
    },
    "executionInfo": {
     "elapsed": 2090,
     "status": "ok",
     "timestamp": 1643616701946,
     "user": {
      "displayName": "AI02 DILAVAR",
      "photoUrl": "https://lh3.googleusercontent.com/a/default-user=s64",
      "userId": "04301189446431884016"
     },
     "user_tz": -330
    },
    "id": "YC6ddpdsJstR",
    "outputId": "9f95e082-43c6-4766-c041-6aa70e206e5d"
   },
   "outputs": [],
   "source": [
    "import glob\n",
    "path =\"Datasets/Validation_images\"\n",
    "for images in glob.iglob(f'{path}/*'):\n",
    "    img = image.load_img(images, target_size=(224, 224))\n",
    "\n",
    "    # Preprocessing the image\n",
    "    x = image.img_to_array(img)\n",
    "    # x = np.true_divide(x, 255)\n",
    "    ## Scaling\n",
    "    x = x / 255\n",
    "    x = np.expand_dims(x, axis=0)\n",
    "\n",
    "    # Be careful how your trained model deals with the input\n",
    "    # otherwise, it won't make correct prediction!\n",
    "    #x = preprocess_input(x)\n",
    "\n",
    "    preds = model.predict(x)\n",
    "    maxElement = np.amax(preds)\n",
    "    preds = np.argmax(preds, axis=1)\n",
    "    print(preds + 1,images)\n"
   ]
  },
  {
   "cell_type": "code",
   "execution_count": null,
   "metadata": {},
   "outputs": [],
   "source": []
  }
 ],
 "metadata": {
  "colab": {
   "authorship_tag": "ABX9TyOoDD0f2odKlJQm78gBT3XY",
   "mount_file_id": "1oUdjpBXEdmA9agvA81ysmimpiNO42KKA",
   "name": "model_h5_predictor.ipynb",
   "provenance": []
  },
  "kernelspec": {
   "display_name": "Python 3 (ipykernel)",
   "language": "python",
   "name": "python3"
  },
  "language_info": {
   "codemirror_mode": {
    "name": "ipython",
    "version": 3
   },
   "file_extension": ".py",
   "mimetype": "text/x-python",
   "name": "python",
   "nbconvert_exporter": "python",
   "pygments_lexer": "ipython3",
   "version": "3.9.0"
  }
 },
 "nbformat": 4,
 "nbformat_minor": 1
}
